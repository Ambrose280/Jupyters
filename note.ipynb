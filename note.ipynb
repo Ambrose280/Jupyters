{
 "cells": [
  {
   "cell_type": "code",
   "execution_count": 12,
   "metadata": {},
   "outputs": [],
   "source": [
    "def wordToFigure(words):\n",
    "    words = words.lower()\n",
    "\n",
    "    # Define dictionaries for words and their corresponding numerical values\n",
    "    words_dict = {'zero': 0, 'one': 1, 'two': 2, 'three': 3, 'four': 4, 'five': 5, 'six': 6, 'seven': 7, 'eight': 8, 'nine': 9,\n",
    "                  'ten': 10, 'eleven': 11, 'twelve': 12, 'thirteen': 13, 'fourteen': 14, 'fifteen': 15, 'sixteen': 16,\n",
    "                  'seventeen': 17, 'eighteen': 18, 'nineteen': 19, 'twenty': 20, 'thirty': 30, 'forty': 40, 'fifty': 50,\n",
    "                  'sixty': 60, 'seventy': 70, 'eighty': 80, 'ninety': 90, 'hundred': 100, 'thousand': 1000, 'million': 1000000,\n",
    "                  'billion': 1000000000, 'trillion': 1000000000000}\n",
    "\n",
    "    total = 0\n",
    "    current_number = 0\n",
    "\n",
    "    words_list = words.split()\n",
    "\n",
    "    for word in words_list:\n",
    "        if word in words_dict:\n",
    "            value = words_dict[word]\n",
    "\n",
    "            if value == 100:\n",
    "                current_number *= value\n",
    "            elif value == 1000 or value == 1000000 or value == 1000000000 or value == 1000000000000:\n",
    "                total += current_number * value\n",
    "                current_number = 0\n",
    "            else:\n",
    "                current_number += value\n",
    "\n",
    "    return total + current_number\n",
    "\n",
    "# Example usage:\n",
    "words_number = \"five hundred billion and twenty million\"\n",
    "numeric_value = wordToFigure(words_number)\n",
    "print(numeric_value)\n"
   ]
  },
  {
   "cell_type": "code",
   "execution_count": 13,
   "metadata": {},
   "outputs": [
    {
     "name": "stdout",
     "output_type": "stream",
     "text": [
      "521\n"
     ]
    }
   ],
   "source": [
    "\n",
    "words_number = \"five hundred and twenty one\"\n",
    "numeric_value = wordToFigure(words_number)\n",
    "print(numeric_value) "
   ]
  },
  {
   "cell_type": "code",
   "execution_count": 19,
   "metadata": {},
   "outputs": [
    {
     "name": "stdout",
     "output_type": "stream",
     "text": [
      "one hundred and twenty three billion four hundred and fifty six million seven hundred and eighty nine thousand twelve\n"
     ]
    }
   ],
   "source": [
    "def figureToWord(number):\n",
    "    # Define lists of words for the tens and ones places\n",
    "    tens_words = ['', 'ten', 'twenty', 'thirty', 'forty', 'fifty', 'sixty', 'seventy', 'eighty', 'ninety']\n",
    "    ones_words = ['', 'one', 'two', 'three', 'four', 'five', 'six', 'seven', 'eight', 'nine']\n",
    "\n",
    "    if 0 <= number < 10:\n",
    "        # Single-digit numbers\n",
    "        return ones_words[number]\n",
    "    elif 10 <= number < 20:\n",
    "        # Special case for numbers 10 to 19\n",
    "        teens_words = ['eleven', 'twelve', 'thirteen', 'fourteen', 'fifteen', 'sixteen', 'seventeen', 'eighteen', 'nineteen']\n",
    "        return teens_words[number - 11]\n",
    "    elif 20 <= number < 100:\n",
    "        # Numbers in the twenties, thirties, etc.\n",
    "        return tens_words[number // 10] + ('' if number % 10 == 0 else ' ' + ones_words[number % 10])\n",
    "    elif 100 <= number < 1000:\n",
    "        # Handle hundreds\n",
    "        return ones_words[number // 100] + ' hundred' + ('' if number % 100 == 0 else ' and ' + figureToWord(number % 100))\n",
    "    elif 1000 <= number < 1000000:\n",
    "        # Handle thousands\n",
    "        return figureToWord(number // 1000) + ' thousand' + ('' if number % 1000 == 0 else ' ' + figureToWord(number % 1000))\n",
    "    elif 1000000 <= number < 1000000000:\n",
    "        # Handle millions\n",
    "        return figureToWord(number // 1000000) + ' million' + ('' if number % 1000000 == 0 else ' ' + figureToWord(number % 1000000))\n",
    "    elif 1000000000 <= number < 1000000000000:\n",
    "        # Handle billions\n",
    "        return figureToWord(number // 1000000000) + ' billion' + ('' if number % 1000000000 == 0 else ' ' + figureToWord(number % 1000000000))\n",
    "    elif 1000000000000 <= number < 1000000000000000:\n",
    "        # Handle trillions\n",
    "        return figureToWord(number // 1000000000000) + ' trillion' + ('' if number % 1000000000000 == 0 else ' ' + figureToWord(number % 1000000000000))\n",
    "\n",
    "# Example usage:\n",
    "number = 123456789012\n",
    "words = figureToWord(number)\n",
    "print(words)\n"
   ]
  }
 ],
 "metadata": {
  "kernelspec": {
   "display_name": "Python 3.10.12 64-bit",
   "language": "python",
   "name": "python3"
  },
  "language_info": {
   "codemirror_mode": {
    "name": "ipython",
    "version": 3
   },
   "file_extension": ".py",
   "mimetype": "text/x-python",
   "name": "python",
   "nbconvert_exporter": "python",
   "pygments_lexer": "ipython3",
   "version": "3.10.12"
  },
  "orig_nbformat": 4,
  "vscode": {
   "interpreter": {
    "hash": "916dbcbb3f70747c44a77c7bcd40155683ae19c65e1c03b4aa3499c5328201f1"
   }
  }
 },
 "nbformat": 4,
 "nbformat_minor": 2
}
